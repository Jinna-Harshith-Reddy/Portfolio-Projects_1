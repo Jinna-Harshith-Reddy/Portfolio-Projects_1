{
 "cells": [
  {
   "cell_type": "code",
   "execution_count": null,
   "id": "a6324a29",
   "metadata": {},
   "outputs": [],
   "source": [
    "#import libraries\n",
    "\n",
    "from bs4 import BeautifulSoup #used to take html code from the pull requests\n",
    "import requests #pulls code from the url\n",
    "import time #for getting today's date\n",
    "import datetime \n",
    "\n",
    "import smtplib  #used for sending emails to yourself"
   ]
  },
  {
   "cell_type": "code",
   "execution_count": null,
   "id": "47292421",
   "metadata": {},
   "outputs": [],
   "source": [
    "#connect to website\n",
    "\n",
    "#put the URL of the product you want to track\n",
    "URL = 'https://www.amazon.in/Banyan-Tee-Radiohead-T-Shirt-Regular/dp/B08VMNZJCQ/ref=sr_1_11?crid=J51MNE8CB5TH&keywords=radiohead+tshirt&qid=1679590397&sprefix=radiohead+tsh%2Caps%2C266&sr=8-11'\n",
    "\n",
    "#use  https://httpbin.org/get to get user-agent data\n",
    "headers = {\"User-Agent\": \"Mozilla/5.0 (Windows NT 10.0; Win64; x64) AppleWebKit/537.36 (KHTML, like Gecko) Chrome/111.0.0.0 Safari/537.36\", \"Accept-Encoding\":\"gzip, deflate\", \"Accept\":\"text/html,application/xhtml+xml,application/xml;q=0.9,*/*;q=0.8\", \"DNT\":\"1\",\"Connection\":\"close\", \"Upgrade-Insecure-Requests\":\"1\"}\n",
    "\n",
    "page = requests.get(URL, headers = headers)\n",
    "\n",
    "soup1 = BeautifulSoup(page.content, \"html.parser\")\n",
    "\n",
    "#makes a prettier version of the html code\n",
    "soup2 = BeautifulSoup(soup1.prettify(), \"html.parser\")\n",
    "\n",
    "#gets product title in str\n",
    "title = soup2.find(id = 'productTitle').get_text()\n",
    "\n",
    "#gets product price in str\n",
    "price = soup2.find(id = 'corePriceDisplay_desktop_feature_div').get_text()\n"
   ]
  },
  {
   "cell_type": "code",
   "execution_count": null,
   "id": "cdefa1e1",
   "metadata": {},
   "outputs": [],
   "source": [
    "#removes unnecessary spaces from the strings\n",
    "\n",
    "price = price.strip()[37:40] #used a fixed range to get the 3-digit price. This will vary from product to product\n",
    "title = title.strip()\n"
   ]
  },
  {
   "cell_type": "code",
   "execution_count": null,
   "id": "15f1a7fb",
   "metadata": {},
   "outputs": [],
   "source": [
    "#defines today in date format\n",
    "\n",
    "import datetime\n",
    "today = datetime.date.today()\n",
    "print(today)\n"
   ]
  },
  {
   "cell_type": "code",
   "execution_count": null,
   "id": "529636dc",
   "metadata": {},
   "outputs": [],
   "source": [
    "#creates a csv files and stores data\n",
    "\n",
    "import csv\n",
    "\n",
    "header = ['Title','Price','date'] #column headers\n",
    "\n",
    "data = [title, price,today] #data inputs in the rows\n",
    "\n",
    "#this is for creating the csv file. w - write into the disk\n",
    "with open('Amazonwebscraperdataset.csv', 'w', newline='', encoding = 'UTF8') as f:\n",
    "    writer = csv.writer(f)\n",
    "    writer.writerow(header)\n",
    "    writer.writerow(data)\n",
    "#caution, this will keep on writing in the existing csv file, hence overwriting the existing data. \n",
    "#We obviously don't want that so we will have to append the new data everytime. This function is only for creating the file."
   ]
  },
  {
   "cell_type": "code",
   "execution_count": null,
   "id": "ccbbc8d0",
   "metadata": {},
   "outputs": [],
   "source": [
    "#reads the file and shows the rows as output so you dont have to open the file everytime.\n",
    "\n",
    "import pandas as pd\n",
    "pd.read_csv(r'C:\\Users\\Welcome\\Amazonwebscraperdataset.csv')"
   ]
  },
  {
   "cell_type": "code",
   "execution_count": null,
   "id": "f1dda2e2",
   "metadata": {},
   "outputs": [],
   "source": [
    "#appending data to csv\n",
    "\n",
    "with open('Amazonwebscraperdataset.csv', 'a+', newline='', encoding = 'UTF8') as f:\n",
    "    writer = csv.writer(f)\n",
    "    writer.writerow(data)"
   ]
  },
  {
   "cell_type": "code",
   "execution_count": null,
   "id": "7c225037",
   "metadata": {},
   "outputs": [],
   "source": [
    "#combines all the code above into one function\n",
    "\n",
    "def check_price():\n",
    "    URL = 'https://www.amazon.in/Banyan-Tee-Radiohead-T-Shirt-Regular/dp/B08VMNZJCQ/ref=sr_1_11?crid=J51MNE8CB5TH&keywords=radiohead+tshirt&qid=1679590397&sprefix=radiohead+tsh%2Caps%2C266&sr=8-11'\n",
    "\n",
    "    headers = {\"User-Agent\": \"Mozilla/5.0 (Windows NT 10.0; Win64; x64) AppleWebKit/537.36 (KHTML, like Gecko) Chrome/111.0.0.0 Safari/537.36\", \"Accept-Encoding\":\"gzip, deflate\", \"Accept\":\"text/html,application/xhtml+xml,application/xml;q=0.9,*/*;q=0.8\", \"DNT\":\"1\",\"Connection\":\"close\", \"Upgrade-Insecure-Requests\":\"1\"}\n",
    "\n",
    "    page = requests.get(URL, headers = headers)\n",
    "\n",
    "    soup1 = BeautifulSoup(page.content, \"html.parser\")\n",
    "\n",
    "    soup2 = BeautifulSoup(soup1.prettify(), \"html.parser\")\n",
    "\n",
    "    title = soup2.find(id = 'productTitle').get_text()\n",
    "\n",
    "    price = soup2.find(id = 'corePriceDisplay_desktop_feature_div').get_text()\n",
    "\n",
    "    price = price.strip()[37:40]\n",
    "    title = title.strip()\n",
    "    \n",
    "    import datetime\n",
    "    today = datetime.date.today()\n",
    "    \n",
    "    import csv\n",
    "\n",
    "    header = ['Title','Price','date']\n",
    "\n",
    "    data = [title, price,today]\n",
    "\n",
    "    with open('Amazonwebscraperdataset.csv', 'a+', newline='', encoding = 'UTF8') as f:\n",
    "        writer = csv.writer(f)\n",
    "        writer.writerow(data)"
   ]
  },
  {
   "cell_type": "code",
   "execution_count": null,
   "id": "d4663738",
   "metadata": {},
   "outputs": [],
   "source": [
    "# Runs check_price after a set time and inputs data into your CSV\n",
    "\n",
    "while(True):\n",
    "    check_price()\n",
    "    time.sleep(86400)"
   ]
  },
  {
   "cell_type": "code",
   "execution_count": null,
   "id": "37ef47b9",
   "metadata": {},
   "outputs": [],
   "source": [
    "#Price drop checker\n",
    "\n",
    "if(price < 500):\n",
    "    send_mail()"
   ]
  },
  {
   "cell_type": "code",
   "execution_count": null,
   "id": "745807a2",
   "metadata": {},
   "outputs": [],
   "source": [
    "# If you want to try sending yourself an email when a price hits below a certain level you can try it\n",
    "# out with this script\n",
    "\n",
    "def send_mail():\n",
    "    server = smtplib.SMTP_SSL('smtp.gmail.com',465)\n",
    "    server.ehlo()\n",
    "    #server.starttls()\n",
    "    server.ehlo()\n",
    "    server.login('testmail@gmail.com','xxpassxx')\n",
    "    \n",
    "    subject = \"The Shirt you want is below 500rs! Now is your chance to buy!\"\n",
    "    body = \"Adnaan, This is the moment we have been waiting for. Now is your chance to pick up the shirt of your dreams. Don't mess it up! Link here: https://www.amazon.in/Banyan-Tee-Radiohead-T-Shirt-Regular/dp/B08VMNZJCQ/ref=sr_1_11?crid=J51MNE8CB5TH&keywords=radiohead+tshirt&qid=1679590397&sprefix=radiohead+tsh%2Caps%2C266&sr=8-11\"\n",
    "   \n",
    "    msg = f\"Subject: {subject}\\n\\n{body}\"\n",
    "    \n",
    "    server.sendmail(\n",
    "        'testmail@gmail.com',\n",
    "        msg\n",
    "     \n",
    "    )"
   ]
  }
 ],
 "metadata": {
  "kernelspec": {
   "display_name": "Python 3 (ipykernel)",
   "language": "python",
   "name": "python3"
  },
  "language_info": {
   "codemirror_mode": {
    "name": "ipython",
    "version": 3
   },
   "file_extension": ".py",
   "mimetype": "text/x-python",
   "name": "python",
   "nbconvert_exporter": "python",
   "pygments_lexer": "ipython3",
   "version": "3.9.13"
  }
 },
 "nbformat": 4,
 "nbformat_minor": 5
}
